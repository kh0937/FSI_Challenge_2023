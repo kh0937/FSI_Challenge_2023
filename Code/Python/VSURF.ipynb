{
 "cells": [
  {
   "cell_type": "code",
   "execution_count": 9,
   "id": "79e55efa-db56-410c-8bef-c2e7473d7050",
   "metadata": {},
   "outputs": [
    {
     "name": "stdout",
     "output_type": "stream",
     "text": [
      "cp_values: [-1.5124191141591838, -1.191442072807072, 2.3600425748602896, 6.000039473867371, 8.0, 8.0, 8.0, 8.0, 8.0, 8.0, 8.0, 8.0, 8.0, 8.0, 8.0, 8.0, 8.0, 8.0, 8.0]\n",
      "thereshold: 0.0005560265467308789\n",
      "VI mean [0.35466521 0.05604506 0.11390345 0.04402107 0.0351941  0.12188809\n",
      " 0.13866434 0.13561867]\n",
      "VI STD: [2.13202980e-03 2.18204148e-04 1.16234860e-03 3.06667874e-04\n",
      " 7.79370152e-05 4.05671266e-04 8.57888941e-04 8.63467986e-04]\n",
      "Selected Variables (Ranked by VI): [0, 2, 7, 6, 5, 3, 1, 4]\n",
      "Elapsed Time: 7.57 minutes\n"
     ]
    }
   ],
   "source": [
    "import numpy as np\n",
    "from sklearn.ensemble import RandomForestRegressor\n",
    "from sklearn.ensemble import RandomForestClassifier\n",
    "from sklearn.tree import DecisionTreeRegressor\n",
    "from sklearn.datasets import fetch_california_housing\n",
    "from sklearn.metrics import mean_squared_error\n",
    "import seaborn as sns\n",
    "import matplotlib.pyplot as plt\n",
    "import time\n",
    "import copy\n",
    "\n",
    "\n",
    "\n",
    "class VSURF:\n",
    "    def __init__(self, num_var,ytype ='continuous' ,n_estimators = 2000):\n",
    "        self.ytype = ytype\n",
    "        self.mtry = max(int(num_var / 3), 1) # refered by VSURF paper\n",
    "        self.n_estimators = n_estimators\n",
    "\n",
    "\n",
    "    def fit(self, X_train, y_train, num_runs=50):\n",
    "        variable_importances = []\n",
    "        for i in range(num_runs):\n",
    "            if self.ytype == 'continuous':\n",
    "                regression_model = RandomForestRegressor(n_estimators=self.n_estimators, \n",
    "                                                         max_features = self.mtry  ,random_state=i,n_jobs = -1)\n",
    "                regression_model.fit(X_train, y_train)\n",
    "                variable_importances.append(regression_model.feature_importances_)\n",
    "            else:\n",
    "                classfication_model = RandomForestClassifier(n_estimators=self.n_estimators,\n",
    "                                                             max_features = self.mtry ,random_state = i, n_jobs = -1)\n",
    "                classfication_model(X_train, y_train)\n",
    "                variable_importances.append(classfication_model.feature_importances_)\n",
    "            \n",
    "        vi_mean = np.mean(variable_importances, axis=0)\n",
    "        vi_std = np.std(variable_importances, axis=0)\n",
    "        self.vi_mean = copy.deepcopy(vi_mean)\n",
    "\n",
    "        sorted_indices = np.argsort(vi_std)[::-1]\n",
    "        \n",
    "        \n",
    "        sorted_data = sorted(range(len(vi_mean)), key=lambda x: vi_mean[x], reverse=True)  # 데이터를 기준으로 내림차순으로 인덱스 정렬\n",
    "        ranked_data = {index: rank + 1 for rank, index in enumerate(sorted_data)}  # 인덱스에 등수 부여\n",
    "\n",
    "        xranks = [ranked_data[index] for index in range(len(vi_mean))]  # 각 값의 인덱스에 해당하는 등수\n",
    "        X_ranks = np.array(xranks).reshape(-1, 1)\n",
    "        \n",
    "        max_depths = range(1, 20)\n",
    "        cp_values = []\n",
    "        \n",
    "        # prunning\n",
    "        for max_depth in max_depths:\n",
    "            cart_model = DecisionTreeRegressor(max_depth=max_depth, random_state=42)\n",
    "            cart_model.fit(X_ranks, vi_std)\n",
    "            \n",
    "            y_pred = cart_model.predict(X_ranks)\n",
    "            sse_p = np.sum((y_pred - vi_std)**2)\n",
    "            \n",
    "            mean_std = [np.mean(vi_std)] * len(vi_std)\n",
    "            \n",
    "            mse_full = mean_squared_error(vi_std, mean_std)\n",
    "            n = len(vi_std)\n",
    "            d_p = cart_model.get_n_leaves()\n",
    "            cp = (sse_p / mse_full) - (n - 2 * d_p)\n",
    "            cp_values.append(cp)\n",
    "        \n",
    "        print('cp_values:', cp_values)\n",
    "        best_max_depth = max_depths[np.argmin(cp_values)]\n",
    "        final_model = DecisionTreeRegressor(max_depth=best_max_depth, random_state=42)\n",
    "        final_model.fit(X_ranks, vi_std)\n",
    "\n",
    "        self.threshold = np.min(final_model.predict(X_ranks))\n",
    "        print('thereshold:', self.threshold)\n",
    "        print(\"VI mean\", vi_mean)\n",
    "        print(\"VI STD:\", vi_std)\n",
    "\n",
    "        self.selected_variables = [idx for idx in sorted_indices if vi_mean[idx] > self.threshold]\n",
    "\n",
    "    def get_selected_variables(self):\n",
    "        return self.selected_variables\n",
    "    \n",
    "    # def plot_variable_importance(self):\n",
    "        # graph = sns.lineplot(data= self.vi_mean, x=\"VI mean\", y=\"Variable\")\n",
    "        # graph.axhline(self.threshold, c = 'red')\n",
    "        # plt.show()\n",
    "            \n",
    "\n",
    "# Simulation study\n",
    "\n",
    "start_time = time.time()\n",
    "\n",
    "data = fetch_california_housing()\n",
    "\n",
    "num_noise_features = 50\n",
    "\n",
    "noise = np.random.normal(0, 1, (data.data.shape[0], num_noise_features))\n",
    "\n",
    "data_with_noise = np.hstack((data.data, noise))\n",
    "\n",
    "X_train, y_train = data.data, data.target\n",
    "\n",
    "\n",
    "# 클래스 객체 생성 및 변수 선택 수행\n",
    "variable_selector = VSURF(num_var = X_train.shape[1], ytype = 'continuous')\n",
    "variable_selector.fit(X_train, y_train)\n",
    "\n",
    "# 선택된 변수들의 인덱스 출력 (VI 값이 높은 순서대로)\n",
    "print(\"Selected Variables (Ranked by VI):\", variable_selector.get_selected_variables())\n",
    "\n",
    "end_time = time.time()\n",
    "\n",
    "elapsed_time_in_seconds = end_time - start_time\n",
    "\n",
    "elapsed_time_in_minutes = elapsed_time_in_seconds / 60\n",
    "\n",
    "print(f\"Elapsed Time: {elapsed_time_in_minutes:.2f} minutes\")"
   ]
  },
  {
   "cell_type": "code",
   "execution_count": 10,
   "id": "16ec348f-cf42-41a3-9982-23d057a0e494",
   "metadata": {},
   "outputs": [
    {
     "data": {
      "text/plain": [
       "8"
      ]
     },
     "execution_count": 10,
     "metadata": {},
     "output_type": "execute_result"
    }
   ],
   "source": [
    "len(variable_selector.get_selected_variables())"
   ]
  },
  {
   "cell_type": "code",
   "execution_count": null,
   "id": "b2423895-90a6-4c7b-ab54-1c32faa4e5f4",
   "metadata": {},
   "outputs": [],
   "source": [
    "variable_selector.plot_variable_importance()"
   ]
  }
 ],
 "metadata": {
  "kernelspec": {
   "display_name": "Python 3 (ipykernel)",
   "language": "python",
   "name": "python3"
  },
  "language_info": {
   "codemirror_mode": {
    "name": "ipython",
    "version": 3
   },
   "file_extension": ".py",
   "mimetype": "text/x-python",
   "name": "python",
   "nbconvert_exporter": "python",
   "pygments_lexer": "ipython3",
   "version": "3.9.13"
  }
 },
 "nbformat": 4,
 "nbformat_minor": 5
}
